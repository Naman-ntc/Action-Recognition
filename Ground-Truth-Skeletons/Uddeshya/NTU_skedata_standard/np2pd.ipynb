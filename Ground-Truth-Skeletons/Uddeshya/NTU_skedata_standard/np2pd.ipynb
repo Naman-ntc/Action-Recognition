{
 "cells": [
  {
   "cell_type": "code",
   "execution_count": 1,
   "metadata": {},
   "outputs": [],
   "source": [
    "import numpy as np\n",
    "import pandas as pd\n",
    "import pickle\n",
    "import random"
   ]
  },
  {
   "cell_type": "code",
   "execution_count": 2,
   "metadata": {},
   "outputs": [],
   "source": [
    "dtd_view = np.load('./xview/train_data.npy')\n",
    "dvd_view = np.load('./xview/val_data.npy')\n",
    "pf1 = open(\"./xview/train_label.pkl\",\"rb\")\n",
    "pf2 = open(\"./xview/val_label.pkl\",\"rb\")\n",
    "dtl_view = pickle.load(pf1)\n",
    "dvl_view = pickle.load(pf2)"
   ]
  },
  {
   "cell_type": "code",
   "execution_count": 3,
   "metadata": {},
   "outputs": [
    {
     "name": "stdout",
     "output_type": "stream",
     "text": [
      "Number of training samples :  37646\n",
      "Number of validation samples :  18932\n"
     ]
    }
   ],
   "source": [
    "print('Number of training samples : ', len(dtl_view[1]))\n",
    "print('Number of validation samples : ', len(dvl_view[1]))"
   ]
  },
  {
   "cell_type": "code",
   "execution_count": 4,
   "metadata": {},
   "outputs": [],
   "source": [
    "def myformat(X):\n",
    "    X = X[:,:,:,:,0]\n",
    "    print('X shape : ', X.shape)\n",
    "    Xx, Xy, Xz = X[:,0,:,:], X[:,1,:,:], X[:,2,:,:]\n",
    "    print('Xx sahpe : ', Xx.shape)\n",
    "    print('Xy sahpe : ', Xy.shape)\n",
    "    print('Xz sahpe : ', Xz.shape)\n",
    "    X = np.concatenate((Xx,Xy,Xz), axis=2)\n",
    "    print('X shape : ', X.shape)\n",
    "    return X"
   ]
  },
  {
   "cell_type": "code",
   "execution_count": 5,
   "metadata": {},
   "outputs": [
    {
     "name": "stdout",
     "output_type": "stream",
     "text": [
      "X shape :  (37646, 3, 300, 25)\n",
      "Xx sahpe :  (37646, 300, 25)\n",
      "Xy sahpe :  (37646, 300, 25)\n",
      "Xz sahpe :  (37646, 300, 25)\n",
      "X shape :  (37646, 300, 75)\n",
      "X shape :  (18932, 3, 300, 25)\n",
      "Xx sahpe :  (18932, 300, 25)\n",
      "Xy sahpe :  (18932, 300, 25)\n",
      "Xz sahpe :  (18932, 300, 25)\n",
      "X shape :  (18932, 300, 75)\n"
     ]
    }
   ],
   "source": [
    "dtd_view = myformat(dtd_view)\n",
    "dvd_view = myformat(dvd_view)"
   ]
  },
  {
   "cell_type": "code",
   "execution_count": 7,
   "metadata": {},
   "outputs": [],
   "source": [
    "SEQ_LEN = None\n",
    "def Data_gen(train_split, labels, SEQ_LEN):\n",
    "    N = len(labels)\n",
    "    idx = [i for i in range(N)]\n",
    "    while(True):\n",
    "        X = train_split\n",
    "        databatch_id = random.sample(idx, 1)[0]\n",
    "        databatch = list(train_split)[databatch_id]\n",
    "        databatch, label = databatch, labels[databatch_id]\n",
    "        if SEQ_LEN is not None:\n",
    "            if len(databatch) > SEQ_LEN:\n",
    "                databatch = databatch[0:SEQ_LEN]\n",
    "            elif len(databatch) < SEQ_LEN:\n",
    "                databatch = np.concatenate((databatch, np.zeros((SEQ_LEN - len(databatch), 75))))\n",
    "            else:\n",
    "                pass\n",
    "            yield databatch,label\n",
    "        else:\n",
    "            yield databatch,label\n",
    "\n",
    "ACTd = Data_gen(dtd_view, dtl_view[1], SEQ_LEN)\n",
    "ACTvd = Data_gen(dvd_view, dvl_view[1], SEQ_LEN)"
   ]
  },
  {
   "cell_type": "code",
   "execution_count": 23,
   "metadata": {},
   "outputs": [
    {
     "data": {
      "text/plain": [
       "(array([[-0.1486546 , -0.1593906 , -0.1686039 , ...,  2.91324997,\n",
       "          2.9686439 ,  2.90777802],\n",
       "        [-0.1510382 , -0.1599616 , -0.16839521, ...,  2.906636  ,\n",
       "          2.97305298,  2.91478896],\n",
       "        [-0.1488627 , -0.1590309 , -0.16852979, ...,  2.92079997,\n",
       "          2.97306991,  2.9289999 ],\n",
       "        ..., \n",
       "        [ 0.        ,  0.        ,  0.        , ...,  0.        ,\n",
       "          0.        ,  0.        ],\n",
       "        [ 0.        ,  0.        ,  0.        , ...,  0.        ,\n",
       "          0.        ,  0.        ],\n",
       "        [ 0.        ,  0.        ,  0.        , ...,  0.        ,\n",
       "          0.        ,  0.        ]], dtype=float32), 51)"
      ]
     },
     "execution_count": 23,
     "metadata": {},
     "output_type": "execute_result"
    }
   ],
   "source": [
    "next(ACTd)"
   ]
  }
 ],
 "metadata": {
  "kernelspec": {
   "display_name": "Python [default]",
   "language": "python",
   "name": "python3"
  },
  "language_info": {
   "codemirror_mode": {
    "name": "ipython",
    "version": 3
   },
   "file_extension": ".py",
   "mimetype": "text/x-python",
   "name": "python",
   "nbconvert_exporter": "python",
   "pygments_lexer": "ipython3",
   "version": "3.6.3"
  }
 },
 "nbformat": 4,
 "nbformat_minor": 2
}
