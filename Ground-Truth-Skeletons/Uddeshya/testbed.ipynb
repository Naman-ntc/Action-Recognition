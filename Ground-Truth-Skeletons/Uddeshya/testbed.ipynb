{
 "cells": [
  {
   "cell_type": "code",
   "execution_count": 1,
   "metadata": {},
   "outputs": [
    {
     "data": {
      "text/plain": [
       "<torch._C.Generator at 0x7f3c600c3890>"
      ]
     },
     "execution_count": 1,
     "metadata": {},
     "output_type": "execute_result"
    }
   ],
   "source": [
    "import torch\n",
    "import torch.autograd as autograd\n",
    "import torch.nn as nn\n",
    "import torch.nn.functional as F\n",
    "import torch.optim as optim\n",
    "\n",
    "import random, numpy as np\n",
    "import pandas as pd\n",
    "import matplotlib.pyplot as plt\n",
    "\n",
    "torch.manual_seed(1)"
   ]
  },
  {
   "cell_type": "code",
   "execution_count": 32,
   "metadata": {},
   "outputs": [],
   "source": [
    "class M1(nn.Module):\n",
    "    def __init__(self, in_dim1, out_dim1, in_dim2, out_dim2, out_dim, batchsz):\n",
    "        super(M1, self).__init__()\n",
    "        self.in_dim1 = in_dim1\n",
    "        self.in_dim2 = in_dim2\n",
    "        self.out_dim1 = out_dim1\n",
    "        self.out_dim2 = out_dim2\n",
    "        self.out_dim = out_dim\n",
    "        self.batchsz = batchsz\n",
    "        \n",
    "        self.l1_1 = nn.Linear(in_dim1, out_dim1)\n",
    "        self.l1_2 = nn.Linear(out_dim1, out_dim)\n",
    "        \n",
    "        self.l2_1 = nn.Linear(in_dim2, out_dim2)\n",
    "        self.l2_2 = nn.Linear(out_dim2, out_dim)\n",
    "        \n",
    "        self.l3_1 = nn.Conv1d(2, 1, 3, padding=1)\n",
    "    \n",
    "    def forward(self, x1, x2):\n",
    "        t1 = self.l1_1(x1)\n",
    "        t1 = self.l1_2(t1)\n",
    "        print('t1 : ', t1.size())\n",
    "        t2 = self.l2_1(x2)\n",
    "        t2 = self.l2_2(t2)\n",
    "        print('t2 : ', t2.size())\n",
    "        \n",
    "        t = autograd.Variable(torch.zeros((100, 2 , self.out_dim)))\n",
    "        t[:,0,:] = t1\n",
    "        t[:,1,:] = t2\n",
    "        print('t : ', t.size())\n",
    "        \n",
    "        y1  = self.l3_1(t)\n",
    "        print('y1 : ', y1.size())\n",
    "        y = y1.view(100,-1)\n",
    "        log_probs = F.log_softmax(y, dim=1)\n",
    "        return log_probs"
   ]
  },
  {
   "cell_type": "code",
   "execution_count": 33,
   "metadata": {},
   "outputs": [],
   "source": [
    "m = M1(10,20, 30, 45, 50, 100)"
   ]
  },
  {
   "cell_type": "code",
   "execution_count": 48,
   "metadata": {},
   "outputs": [
    {
     "name": "stdout",
     "output_type": "stream",
     "text": [
      "t1 :  torch.Size([100, 50])\n",
      "t2 :  torch.Size([100, 50])\n",
      "t :  torch.Size([100, 2, 50])\n",
      "y1 :  torch.Size([100, 1, 50])\n",
      "Variable containing:\n",
      "-34605.2930\n",
      "[torch.FloatTensor of size 1]\n",
      "\n"
     ]
    }
   ],
   "source": [
    "X1 = autograd.Variable(torch.rand(100, 10))\n",
    "X2 = autograd.Variable(torch.rand(100, 30))\n",
    "z = m(X1, X2)\n",
    "loss = (z-3).sum()\n",
    "print(loss)\n",
    "loss.backward()"
   ]
  }
 ],
 "metadata": {
  "kernelspec": {
   "display_name": "Python [default]",
   "language": "python",
   "name": "python3"
  },
  "language_info": {
   "codemirror_mode": {
    "name": "ipython",
    "version": 3
   },
   "file_extension": ".py",
   "mimetype": "text/x-python",
   "name": "python",
   "nbconvert_exporter": "python",
   "pygments_lexer": "ipython3",
   "version": "3.6.3"
  }
 },
 "nbformat": 4,
 "nbformat_minor": 2
}
